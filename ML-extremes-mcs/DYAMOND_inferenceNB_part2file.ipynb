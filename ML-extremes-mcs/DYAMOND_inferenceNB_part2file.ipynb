{
 "cells": [
  {
   "cell_type": "code",
   "execution_count": 1,
   "id": "b7103fc6-9159-4f1f-9d1a-3401fb86b8d8",
   "metadata": {},
   "outputs": [],
   "source": [
    "import numpy as np\n",
    "import xarray as xr"
   ]
  },
  {
   "cell_type": "code",
   "execution_count": 2,
   "id": "98f88fdc-56b1-4f6c-a211-15af5d400798",
   "metadata": {},
   "outputs": [],
   "source": [
    "def Tb_to_OLR(Tb):\n",
    "    a = 1.228\n",
    "    b = -1.106e-3\n",
    "    sigma = 5.67e-8  # W m^-2 K^-4\n",
    "    OLR = ((((Tb * (2*b) + a)**2 - (a**2)) / (4*b))**4) * sigma\n",
    "    return OLR\n",
    "\n",
    "\n",
    "def OLR_to_TB(OLR):\n",
    "    a = 1.228\n",
    "    b = -1.106e-3\n",
    "    sigma = 5.67e-8  # W m^-2 K^-4\n",
    "    tf = (OLR/sigma)**0.25\n",
    "    Tb = (-a + np.sqrt((a**2) + (4*b*tf)))/(2*b)\n",
    "    return Tb"
   ]
  },
  {
   "cell_type": "raw",
   "id": "178b99eb-e785-4b5b-9e10-9911e4158c7d",
   "metadata": {},
   "source": [
    "/glade/derecho/scratch/molina/MCSMIP/OLR_Precipitation_combined \n",
    "\n",
    "olr_pcp_Summer_ARPEGE.nc  olr_pcp_Summer_OBS.nc     \n",
    "olr_pcp_Summer_MPAS.nc    olr_pcp_Summer_NICAM.nc\n",
    "olr_pcp_Summer_FV3.nc     olr_pcp_Summer_OBSv7.nc\n",
    "olr_pcp_Summer_SAM.nc     olr_pcp_Summer_SCREAMv1.nc\n",
    "olr_pcp_Summer_IFS.nc     olr_pcp_Summer_UM.nc\n",
    "\n",
    "olr_pcp_Winter_IFS.nc     olr_pcp_Winter_SCREAM.nc\n",
    "olr_pcp_Winter_ARPEGE.nc  olr_pcp_Winter_GEOS.nc\n",
    "olr_pcp_Winter_GRIST.nc   olr_pcp_Winter_OBS.nc\n",
    "olr_pcp_Winter_ICON.nc    olr_pcp_Winter_SAM.nc\n",
    "olr_pcp_Winter_MPAS.nc    olr_pcp_Winter_UM.nc    \n",
    "olr_pcp_Winter_NICAM.nc   olr_pcp_Winter_XSHiELD.nc\n",
    "olr_pcp_Winter_OBSv7.nc   olr_pcp_Winter_SCREAMv1.nc"
   ]
  },
  {
   "cell_type": "code",
   "execution_count": 3,
   "id": "33db9500-a2ce-4bbd-a95c-1c190a9fad5e",
   "metadata": {},
   "outputs": [],
   "source": [
    "directory_sel = '/glade/derecho/scratch/molina/MCSMIP/mloutput/'\n",
    "mcs_dir = '/glade/derecho/scratch/molina/MCSMIP/OLR_Precipitation_combined/'\n",
    "\n",
    "# ---\n",
    "\n",
    "season_select = 'Summer'\n",
    "# season_select = 'Winter'\n",
    "# model_select = 'UM'\n",
    "# model_select = [\n",
    "#     'ARPEGE', 'GEOS', 'GRIST', 'ICON', 'IFS',\n",
    "#     'MPAS', 'SAM', 'SCREAM', 'UM', 'XSHiELD'\n",
    "# ]\n",
    "# model_select = [\n",
    "#     'SCREAM', 'UM', 'XSHiELD'\n",
    "# ]\n",
    "model_select = 'OBS'\n",
    "# model_select = 'OBSv7'\n",
    "# model_select = ['SCREAMv1']\n",
    "\n",
    "# ---"
   ]
  },
  {
   "cell_type": "code",
   "execution_count": 4,
   "id": "24bb9fdd-dae1-43d6-bb6f-a0e39d976faf",
   "metadata": {},
   "outputs": [
    {
     "name": "stdout",
     "output_type": "stream",
     "text": [
      "/glade/derecho/scratch/molina/MCSMIP/mloutput/Summer/\n"
     ]
    }
   ],
   "source": [
    "# only OBS (no other models)\n",
    "filemcss = f\"{directory_sel}/{season_select}/{model_select}_*.nc\"\n",
    "filename = f\"olr_pcp_{season_select}_{model_select}.nc\"\n",
    "\n",
    "ds_ml = xr.open_mfdataset(filemcss)\n",
    "ds = xr.open_dataset(mcs_dir+filename)\n",
    "\n",
    "assert np.all(ds['time'] == ds_ml['time'])\n",
    "\n",
    "ds = ds.assign(olr=Tb_to_OLR(ds['Tb']))\n",
    "ds = ds.assign(mcs_prob=ds_ml['data'][:, 1, :, :])\n",
    "\n",
    "savedir = f\"/glade/derecho/scratch/molina/MCSMIP/mloutput/{ds.attrs['phase']}/\"\n",
    "ds.to_netcdf(f\"{savedir}MCSMIP_{ds.attrs['phase']}_{ds.attrs['source']}.nc\")\n",
    "print(savedir)"
   ]
  },
  {
   "cell_type": "code",
   "execution_count": 4,
   "id": "4223e58e-9206-491f-8afe-5e2ef475f920",
   "metadata": {},
   "outputs": [
    {
     "name": "stdout",
     "output_type": "stream",
     "text": [
      "/glade/derecho/scratch/molina/MCSMIP/mloutput/Winter/\n"
     ]
    }
   ],
   "source": [
    "# all models except OBS\n",
    "for ms in model_select:\n",
    "\n",
    "    filemcss = f\"{directory_sel}/{season_select}/{ms}_*.nc\"\n",
    "    filename = f\"olr_pcp_{season_select}_{ms}.nc\"\n",
    "\n",
    "    ds_ml = xr.open_mfdataset(filemcss)\n",
    "    ds = xr.open_dataset(mcs_dir+filename)\n",
    "\n",
    "    assert np.all(ds['time'] == ds_ml['time'])\n",
    "\n",
    "    ds = ds.assign(Tb=OLR_to_TB(ds['olr']))\n",
    "    ds = ds.assign(mcs_prob=ds_ml['data'][:, 1, :, :])\n",
    "\n",
    "    savedir = f\"/glade/derecho/scratch/molina/MCSMIP/mloutput/{ds.attrs['phase']}/\"\n",
    "    ds.to_netcdf(f\"{savedir}MCSMIP_{ds.attrs['phase']}_{ds.attrs['source']}.nc\")\n",
    "    print(savedir)"
   ]
  },
  {
   "cell_type": "markdown",
   "id": "9bfc47f8-3359-4fe0-b47f-1e6cd84b5f60",
   "metadata": {},
   "source": [
    "### add attrs to created files"
   ]
  },
  {
   "cell_type": "code",
   "execution_count": 3,
   "id": "7d2bdba9-e740-4d97-9a8c-e0fa2d28d3a4",
   "metadata": {},
   "outputs": [],
   "source": [
    "# summer_models = [\n",
    "#     \"ARPEGE.nc\", \"IFS.nc\", \"NICAM.nc\", \"SAM.nc\", \"FV3.nc\", \"MPAS.nc\", \"OBS.nc\", \"UM.nc\"\n",
    "# ]\n",
    "\n",
    "# winter_models = [\n",
    "#     \"ARPEGE.nc\", \"ICON.nc\", \"OBS.nc\", \"UM.nc\", \"GEOS.nc\", \"IFS.nc\", \"SAM.nc\", \n",
    "#     \"XSHiELD.nc\", \"GRIST.nc\", \"MPAS.nc\", \"SCREAM.nc\"\n",
    "# ]\n",
    "\n",
    "summer_models = [\n",
    "    \"OBSv7.nc\", \"OBS.nc\"\n",
    "]\n",
    "\n",
    "winter_models = [\n",
    "    \"OBSv7.nc\", \"OBS.nc\"\n",
    "]"
   ]
  },
  {
   "cell_type": "code",
   "execution_count": 4,
   "id": "4891d261-ff44-4166-a822-defa62fd91cc",
   "metadata": {},
   "outputs": [],
   "source": [
    "season = 'Summer'\n",
    "directory = f\"/glade/derecho/scratch/molina/MCSMIP/mloutput/{season}/MCSMIP_{season}_\"\n",
    "for i in summer_models:\n",
    "    xr.open_dataset(directory+i).assign_attrs(\n",
    "        author=\"Maria J. Molina\",\n",
    "        email=\"mjmolina@umd.edu\",\n",
    "        description=\"MCSs (mcs_prob) detected using deep learning model.\"\n",
    "    ).to_netcdf(directory+\"DL_\"+i)"
   ]
  },
  {
   "cell_type": "code",
   "execution_count": 5,
   "id": "2e791f13-77d4-4e46-ac9e-27a431f31c7b",
   "metadata": {},
   "outputs": [],
   "source": [
    "season = 'Winter'\n",
    "directory = f\"/glade/derecho/scratch/molina/MCSMIP/mloutput/{season}/MCSMIP_{season}_\"\n",
    "for i in winter_models:\n",
    "    xr.open_dataset(directory+i).assign_attrs(\n",
    "        author=\"Maria J. Molina\",\n",
    "        email=\"mjmolina@umd.edu\",\n",
    "        description=\"MCSs (mcs_prob) detected using deep learning model.\"\n",
    "    ).to_netcdf(directory+\"DL_\"+i)"
   ]
  },
  {
   "cell_type": "code",
   "execution_count": null,
   "id": "52170aba-5a21-4aba-85d0-dffacc637af4",
   "metadata": {},
   "outputs": [],
   "source": []
  }
 ],
 "metadata": {
  "kernelspec": {
   "display_name": "Python [conda env:miniconda3-myenv-tfgpu]",
   "language": "python",
   "name": "conda-env-miniconda3-myenv-tfgpu-py"
  },
  "language_info": {
   "codemirror_mode": {
    "name": "ipython",
    "version": 3
   },
   "file_extension": ".py",
   "mimetype": "text/x-python",
   "name": "python",
   "nbconvert_exporter": "python",
   "pygments_lexer": "ipython3",
   "version": "3.8.13"
  }
 },
 "nbformat": 4,
 "nbformat_minor": 5
}
