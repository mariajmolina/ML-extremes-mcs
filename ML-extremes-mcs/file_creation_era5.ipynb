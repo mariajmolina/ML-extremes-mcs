{
 "cells": [
  {
   "cell_type": "code",
   "execution_count": 1,
   "metadata": {},
   "outputs": [],
   "source": [
    "import file_creation\n",
    "from config import main_path_era, mcsera_obs, era_obs, start_year, end_year"
   ]
  },
  {
   "cell_type": "code",
   "execution_count": 2,
   "metadata": {},
   "outputs": [
    {
     "name": "stdout",
     "output_type": "stream",
     "text": [
      "/glade/scratch/molina/cesm_mcs/cesm_era5/\n",
      "/glade/scratch/molina/cesm_mcs/mcs_flextrkr_era5/\n",
      "/glade/collections/rda/data/ds633.0/\n",
      "2004\n",
      "2019\n"
     ]
    }
   ],
   "source": [
    "print(main_path_era)\n",
    "print(mcsera_obs)\n",
    "print(era_obs)\n",
    "print(start_year)\n",
    "print(end_year)"
   ]
  },
  {
   "cell_type": "markdown",
   "metadata": {},
   "source": [
    "### Generate training data variables"
   ]
  },
  {
   "cell_type": "code",
   "execution_count": 3,
   "metadata": {},
   "outputs": [],
   "source": [
    "test = file_creation.GenerateTrainData(main_path=main_path_era, start_year=start_year, end_year=end_year, \n",
    "                                       variable=None, era5_directory=era_obs, mcs_directory=mcsera_obs, \n",
    "                                       mask_var='cloudtracknumber')"
   ]
  },
  {
   "cell_type": "code",
   "execution_count": 4,
   "metadata": {},
   "outputs": [
    {
     "name": "stdout",
     "output_type": "stream",
     "text": [
      "2004 completed\n",
      "2005 completed\n",
      "2006 completed\n",
      "2007 completed\n",
      "2008 completed\n",
      "2009 completed\n",
      "2010 completed\n",
      "2011 completed\n",
      "2012 completed\n",
      "2013 completed\n",
      "2014 completed\n",
      "2015 completed\n",
      "2016 completed\n",
      "2017 completed\n",
      "2018 completed\n"
     ]
    }
   ],
   "source": [
    "test.make_dict(start_str='2004-01-01 00:00:00', end_str='2019-12-31 23:00:00', \n",
    "               frequency='3H', savepath=main_path_era)"
   ]
  },
  {
   "cell_type": "code",
   "execution_count": 4,
   "metadata": {},
   "outputs": [
    {
     "name": "stdout",
     "output_type": "stream",
     "text": [
      "starting mask file generation...\n",
      "Job complete!\n"
     ]
    }
   ],
   "source": [
    "test.generate_masks(dict_freq='3H')"
   ]
  },
  {
   "cell_type": "code",
   "execution_count": 3,
   "metadata": {},
   "outputs": [
    {
     "name": "stdout",
     "output_type": "stream",
     "text": [
      "starting file generation...\n",
      "opening variable file...\n",
      "Job complete!\n"
     ]
    }
   ],
   "source": [
    "test = file_creation.GenerateTrainData(main_path=main_path_era, start_year=start_year, end_year=end_year,\n",
    "                                       variable='2d', env_data='era5', mask_data='era5', era5_directory=era_obs, \n",
    "                                       mcs_directory=mcsera_obs, mask_var='cloudtracknumber')\n",
    "test.generate_files(pre_dict=True, dict_freq='3H')"
   ]
  },
  {
   "cell_type": "code",
   "execution_count": 5,
   "metadata": {},
   "outputs": [
    {
     "name": "stdout",
     "output_type": "stream",
     "text": [
      "starting file generation...\n",
      "opening variable file...\n",
      "Job complete!\n"
     ]
    }
   ],
   "source": [
    "test = file_creation.GenerateTrainData(main_path=main_path_era, start_year=start_year, end_year=end_year,\n",
    "                                       variable='10u', env_data='era5', mask_data='era5', era5_directory=era_obs, \n",
    "                                       mcs_directory=mcsera_obs, mask_var='cloudtracknumber')\n",
    "test.generate_files(pre_dict=True, dict_freq='3H')"
   ]
  },
  {
   "cell_type": "code",
   "execution_count": 3,
   "metadata": {},
   "outputs": [
    {
     "name": "stdout",
     "output_type": "stream",
     "text": [
      "starting file generation...\n",
      "opening variable file...\n",
      "Job complete!\n"
     ]
    }
   ],
   "source": [
    "test = file_creation.GenerateTrainData(main_path=main_path_era,\n",
    "                                       start_year=start_year,\n",
    "                                       end_year=end_year,\n",
    "                                       variable='v', \n",
    "                                       era5_directory=era_obs,\n",
    "                                       mcs_directory=mcsera_obs, \n",
    "                                       mask_var='cloudtracknumber')\n",
    "test.generate_files(p_height=850, pre_dict=True, dict_freq='3H', file_indx=28655)"
   ]
  },
  {
   "cell_type": "code",
   "execution_count": 4,
   "metadata": {},
   "outputs": [
    {
     "name": "stdout",
     "output_type": "stream",
     "text": [
      "starting file generation...\n",
      "opening variable file...\n",
      "Job complete!\n"
     ]
    }
   ],
   "source": [
    "test = file_creation.GenerateTrainData(main_path=main_path_era,\n",
    "                                       start_year=start_year,\n",
    "                                       end_year=end_year,\n",
    "                                       variable='u',\n",
    "                                       era5_directory=era_obs,\n",
    "                                       mcs_directory=mcsera_obs,\n",
    "                                       mask_var='cloudtracknumber')\n",
    "test.generate_files(p_height=850, pre_dict=True, dict_freq='3H', file_indx=29624)"
   ]
  },
  {
   "cell_type": "code",
   "execution_count": 5,
   "metadata": {},
   "outputs": [
    {
     "name": "stdout",
     "output_type": "stream",
     "text": [
      "starting file generation...\n",
      "opening variable file...\n",
      "Job complete!\n"
     ]
    }
   ],
   "source": [
    "test = file_creation.GenerateTrainData(main_path=main_path_era, \n",
    "                                       start_year=start_year, \n",
    "                                       end_year=end_year,\n",
    "                                       variable='u', \n",
    "                                       era5_directory=era_obs, \n",
    "                                       mcs_directory=mcsera_obs, \n",
    "                                       mask_var='cloudtracknumber')\n",
    "test.generate_files(p_height=500, pre_dict=True, dict_freq='3H', file_indx=29146)"
   ]
  },
  {
   "cell_type": "code",
   "execution_count": 6,
   "metadata": {},
   "outputs": [
    {
     "name": "stdout",
     "output_type": "stream",
     "text": [
      "starting file generation...\n",
      "opening variable file...\n",
      "Job complete!\n"
     ]
    }
   ],
   "source": [
    "test = file_creation.GenerateTrainData(main_path=main_path_era, \n",
    "                                       start_year=start_year, \n",
    "                                       end_year=end_year,\n",
    "                                       variable='v', \n",
    "                                       era5_directory=era_obs, \n",
    "                                       mcs_directory=mcsera_obs, \n",
    "                                       mask_var='cloudtracknumber')\n",
    "test.generate_files(p_height=500, pre_dict=True, dict_freq='3H', file_indx=28385)"
   ]
  },
  {
   "cell_type": "code",
   "execution_count": 7,
   "metadata": {},
   "outputs": [
    {
     "name": "stdout",
     "output_type": "stream",
     "text": [
      "starting file generation...\n",
      "opening variable file...\n",
      "Job complete!\n"
     ]
    }
   ],
   "source": [
    "test = file_creation.GenerateTrainData(main_path=main_path_era, \n",
    "                                       start_year=start_year, \n",
    "                                       end_year=end_year,\n",
    "                                       variable='w', \n",
    "                                       era5_directory=era_obs, \n",
    "                                       mcs_directory=mcsera_obs, \n",
    "                                       mask_var='cloudtracknumber')\n",
    "test.generate_files(p_height=700, pre_dict=True, dict_freq='3H', file_indx=29639)"
   ]
  },
  {
   "cell_type": "code",
   "execution_count": 2,
   "metadata": {},
   "outputs": [
    {
     "name": "stdout",
     "output_type": "stream",
     "text": [
      "starting file generation...\n",
      "opening variable file...\n",
      "Job complete!\n"
     ]
    }
   ],
   "source": [
    "test = file_creation.GenerateTrainData(main_path=main_path_era, \n",
    "                                       start_year=start_year,\n",
    "                                       end_year=end_year,\n",
    "                                       variable='cp', \n",
    "                                       era5_directory='/glade/scratch/molina/', \n",
    "                                       mcs_directory=mcsera_obs, \n",
    "                                       mask_var='cloudtracknumber')\n",
    "test.generate_files(dict_freq='3H')"
   ]
  },
  {
   "cell_type": "code",
   "execution_count": 3,
   "metadata": {},
   "outputs": [
    {
     "name": "stdout",
     "output_type": "stream",
     "text": [
      "starting file generation...\n",
      "opening variable file...\n",
      "Job complete!\n"
     ]
    }
   ],
   "source": [
    "test = file_creation.GenerateTrainData(main_path=main_path_era, \n",
    "                                       start_year=start_year,\n",
    "                                       end_year=end_year,\n",
    "                                       variable='lsp', \n",
    "                                       era5_directory='/glade/scratch/molina/', \n",
    "                                       mcs_directory=mcsera_obs, \n",
    "                                       mask_var='cloudtracknumber')\n",
    "test.generate_files(dict_freq='3H')"
   ]
  },
  {
   "cell_type": "code",
   "execution_count": null,
   "metadata": {},
   "outputs": [],
   "source": [
    "test = file_creation.GenerateTrainData(main_path=main_path_era, start_year=start_year, end_year=end_year,\n",
    "                                       variable='cape', env_data='era5', mask_data='era5', era5_directory=era_obs, \n",
    "                                       mcs_directory=mcsera_obs, mask_var='cloudtracknumber')\n",
    "test.generate_files(p_height=None, pre_dict=True, dict_freq='3H')"
   ]
  },
  {
   "cell_type": "code",
   "execution_count": null,
   "metadata": {},
   "outputs": [],
   "source": [
    "test = file_creation.GenerateTrainData(main_path=main_path_era, start_year=start_year, end_year=end_year,\n",
    "                                       variable='q', env_data='era5', mask_data='era5', era5_directory=era_obs, \n",
    "                                       mcs_directory=mcsera_obs, mask_var='cloudtracknumber')\n",
    "test.generate_files(p_height=850, pre_dict=True, dict_freq='3H')"
   ]
  },
  {
   "cell_type": "markdown",
   "metadata": {},
   "source": [
    "### Generate training statistics"
   ]
  },
  {
   "cell_type": "code",
   "execution_count": 3,
   "metadata": {},
   "outputs": [
    {
     "name": "stdout",
     "output_type": "stream",
     "text": [
      "File saved and completed for w700\n"
     ]
    }
   ],
   "source": [
    "test = file_creation.GenerateTrainData(main_path=main_path_era,\n",
    "                                       start_year=start_year, \n",
    "                                       end_year=end_year,\n",
    "                                       variable='w',\n",
    "                                       era5_directory=era_obs,\n",
    "                                       mcs_directory=mcsera_obs, \n",
    "                                       mask_var='cloudtracknumber')\n",
    "test.generate_train_stats('w700', author='Maria J. Molina')"
   ]
  },
  {
   "cell_type": "code",
   "execution_count": 4,
   "metadata": {},
   "outputs": [
    {
     "name": "stdout",
     "output_type": "stream",
     "text": [
      "File saved and completed for cape\n"
     ]
    }
   ],
   "source": [
    "test = file_creation.GenerateTrainData(main_path=main_path_era, \n",
    "                                       start_year=start_year, \n",
    "                                       end_year=end_year,\n",
    "                                       variable='cape', \n",
    "                                       era5_directory=era_obs, \n",
    "                                       mcs_directory=mcsera_obs,\n",
    "                                       mask_var='cloudtracknumber')\n",
    "test.generate_train_stats('cape', author='Maria J. Molina')"
   ]
  },
  {
   "cell_type": "code",
   "execution_count": 5,
   "metadata": {},
   "outputs": [
    {
     "name": "stdout",
     "output_type": "stream",
     "text": [
      "File saved and completed for z500\n"
     ]
    }
   ],
   "source": [
    "test = file_creation.GenerateTrainData(main_path=main_path_era,\n",
    "                                       start_year=start_year, \n",
    "                                       end_year=end_year,\n",
    "                                       variable='z', \n",
    "                                       era5_directory=era_obs, \n",
    "                                       mcs_directory=mcsera_obs,\n",
    "                                       mask_var='cloudtracknumber')\n",
    "test.generate_train_stats('z500', author='Maria J. Molina')"
   ]
  },
  {
   "cell_type": "code",
   "execution_count": 6,
   "metadata": {},
   "outputs": [
    {
     "name": "stdout",
     "output_type": "stream",
     "text": [
      "File saved and completed for 2t\n"
     ]
    }
   ],
   "source": [
    "test = file_creation.GenerateTrainData(main_path=main_path_era, \n",
    "                                       start_year=start_year, \n",
    "                                       end_year=end_year,\n",
    "                                       variable='2t', \n",
    "                                       era5_directory=era_obs,\n",
    "                                       mcs_directory=mcsera_obs,\n",
    "                                       mask_var='cloudtracknumber')\n",
    "test.generate_train_stats('2t', author='Maria J. Molina')"
   ]
  },
  {
   "cell_type": "code",
   "execution_count": 7,
   "metadata": {},
   "outputs": [
    {
     "name": "stdout",
     "output_type": "stream",
     "text": [
      "File saved and completed for 2d\n"
     ]
    }
   ],
   "source": [
    "test = file_creation.GenerateTrainData(main_path=main_path_era, \n",
    "                                       start_year=start_year, \n",
    "                                       end_year=end_year,\n",
    "                                       variable='2d', \n",
    "                                       era5_directory=era_obs, \n",
    "                                       mcs_directory=mcsera_obs, \n",
    "                                       mask_var='cloudtracknumber')\n",
    "test.generate_train_stats('2d', author='Maria J. Molina')"
   ]
  },
  {
   "cell_type": "code",
   "execution_count": 8,
   "metadata": {},
   "outputs": [
    {
     "name": "stdout",
     "output_type": "stream",
     "text": [
      "File saved and completed for 10v\n"
     ]
    }
   ],
   "source": [
    "test = file_creation.GenerateTrainData(main_path=main_path_era, \n",
    "                                       start_year=start_year, \n",
    "                                       end_year=end_year,\n",
    "                                       variable='10v', \n",
    "                                       era5_directory=era_obs, \n",
    "                                       mcs_directory=mcsera_obs, \n",
    "                                       mask_var='cloudtracknumber')\n",
    "test.generate_train_stats('10v', author='Maria J. Molina')"
   ]
  },
  {
   "cell_type": "code",
   "execution_count": 9,
   "metadata": {},
   "outputs": [
    {
     "name": "stdout",
     "output_type": "stream",
     "text": [
      "File saved and completed for 10u\n"
     ]
    }
   ],
   "source": [
    "test = file_creation.GenerateTrainData(main_path=main_path_era, \n",
    "                                       start_year=start_year, \n",
    "                                       end_year=end_year,\n",
    "                                       variable='10u', \n",
    "                                       era5_directory=era_obs, \n",
    "                                       mcs_directory=mcsera_obs, \n",
    "                                       mask_var='cloudtracknumber')\n",
    "test.generate_train_stats('10u', author='Maria J. Molina')"
   ]
  },
  {
   "cell_type": "code",
   "execution_count": 10,
   "metadata": {},
   "outputs": [
    {
     "name": "stdout",
     "output_type": "stream",
     "text": [
      "File saved and completed for sp\n"
     ]
    }
   ],
   "source": [
    "test = file_creation.GenerateTrainData(main_path=main_path_era, \n",
    "                                       start_year=start_year, \n",
    "                                       end_year=end_year,\n",
    "                                       variable='sp', \n",
    "                                       era5_directory=era_obs, \n",
    "                                       mcs_directory=mcsera_obs, \n",
    "                                       mask_var='cloudtracknumber')\n",
    "test.generate_train_stats('sp', author='Maria J. Molina')"
   ]
  },
  {
   "cell_type": "code",
   "execution_count": 11,
   "metadata": {},
   "outputs": [
    {
     "name": "stdout",
     "output_type": "stream",
     "text": [
      "File saved and completed for u500\n"
     ]
    }
   ],
   "source": [
    "test = file_creation.GenerateTrainData(main_path=main_path_era, \n",
    "                                       start_year=start_year, \n",
    "                                       end_year=end_year,\n",
    "                                       variable='u', \n",
    "                                       era5_directory=era_obs, \n",
    "                                       mcs_directory=mcsera_obs, \n",
    "                                       mask_var='cloudtracknumber')\n",
    "test.generate_train_stats('u500', author='Maria J. Molina')"
   ]
  },
  {
   "cell_type": "code",
   "execution_count": 12,
   "metadata": {},
   "outputs": [
    {
     "name": "stdout",
     "output_type": "stream",
     "text": [
      "File saved and completed for v500\n"
     ]
    }
   ],
   "source": [
    "test = file_creation.GenerateTrainData(main_path=main_path_era, \n",
    "                                       start_year=start_year, \n",
    "                                       end_year=end_year,\n",
    "                                       variable='v', \n",
    "                                       era5_directory=era_obs, \n",
    "                                       mcs_directory=mcsera_obs, \n",
    "                                       mask_var='cloudtracknumber')\n",
    "test.generate_train_stats('v500', author='Maria J. Molina')"
   ]
  },
  {
   "cell_type": "code",
   "execution_count": 13,
   "metadata": {},
   "outputs": [
    {
     "name": "stdout",
     "output_type": "stream",
     "text": [
      "File saved and completed for v850\n"
     ]
    }
   ],
   "source": [
    "test = file_creation.GenerateTrainData(main_path=main_path_era, \n",
    "                                       start_year=start_year, \n",
    "                                       end_year=end_year,\n",
    "                                       variable='v', \n",
    "                                       era5_directory=era_obs, \n",
    "                                       mcs_directory=mcsera_obs, \n",
    "                                       mask_var='cloudtracknumber')\n",
    "test.generate_train_stats('v850', author='Maria J. Molina')"
   ]
  },
  {
   "cell_type": "code",
   "execution_count": 14,
   "metadata": {},
   "outputs": [
    {
     "name": "stdout",
     "output_type": "stream",
     "text": [
      "File saved and completed for u850\n"
     ]
    }
   ],
   "source": [
    "test = file_creation.GenerateTrainData(main_path=main_path_era, \n",
    "                                       start_year=start_year, \n",
    "                                       end_year=end_year,\n",
    "                                       variable='u', \n",
    "                                       era5_directory=era_obs, \n",
    "                                       mcs_directory=mcsera_obs, \n",
    "                                       mask_var='cloudtracknumber')\n",
    "test.generate_train_stats('u850', author='Maria J. Molina')"
   ]
  },
  {
   "cell_type": "code",
   "execution_count": 15,
   "metadata": {},
   "outputs": [
    {
     "name": "stdout",
     "output_type": "stream",
     "text": [
      "File saved and completed for q1000\n"
     ]
    }
   ],
   "source": [
    "test = file_creation.GenerateTrainData(main_path=main_path_era, \n",
    "                                       start_year=start_year, \n",
    "                                       end_year=end_year,\n",
    "                                       variable='q', \n",
    "                                       era5_directory=era_obs, \n",
    "                                       mcs_directory=mcsera_obs, \n",
    "                                       mask_var='cloudtracknumber')\n",
    "test.generate_train_stats('q1000', author='Maria J. Molina')"
   ]
  },
  {
   "cell_type": "code",
   "execution_count": 16,
   "metadata": {},
   "outputs": [
    {
     "name": "stdout",
     "output_type": "stream",
     "text": [
      "File saved and completed for q850\n"
     ]
    }
   ],
   "source": [
    "test = file_creation.GenerateTrainData(main_path=main_path_era, \n",
    "                                       start_year=start_year, \n",
    "                                       end_year=end_year,\n",
    "                                       variable='q', \n",
    "                                       era5_directory=era_obs, \n",
    "                                       mcs_directory=mcsera_obs, \n",
    "                                       mask_var='cloudtracknumber')\n",
    "test.generate_train_stats('q850', author='Maria J. Molina')"
   ]
  },
  {
   "cell_type": "code",
   "execution_count": 17,
   "metadata": {},
   "outputs": [
    {
     "name": "stdout",
     "output_type": "stream",
     "text": [
      "File saved and completed for cp\n"
     ]
    }
   ],
   "source": [
    "test = file_creation.GenerateTrainData(main_path=main_path_era, \n",
    "                                       start_year=start_year, \n",
    "                                       end_year=end_year,\n",
    "                                       variable='cp', \n",
    "                                       era5_directory=era_obs, \n",
    "                                       mcs_directory=mcsera_obs, \n",
    "                                       mask_var='cloudtracknumber')\n",
    "test.generate_train_stats('cp', author='Maria J. Molina')"
   ]
  },
  {
   "cell_type": "code",
   "execution_count": 18,
   "metadata": {},
   "outputs": [
    {
     "name": "stdout",
     "output_type": "stream",
     "text": [
      "File saved and completed for lsp\n"
     ]
    }
   ],
   "source": [
    "test = file_creation.GenerateTrainData(main_path=main_path_era, \n",
    "                                       start_year=start_year, \n",
    "                                       end_year=end_year,\n",
    "                                       variable='lsp', \n",
    "                                       era5_directory=era_obs, \n",
    "                                       mcs_directory=mcsera_obs, \n",
    "                                       mask_var='cloudtracknumber')\n",
    "test.generate_train_stats('lsp', author='Maria J. Molina')"
   ]
  },
  {
   "cell_type": "code",
   "execution_count": null,
   "metadata": {},
   "outputs": [],
   "source": []
  }
 ],
 "metadata": {
  "kernelspec": {
   "display_name": "Python [conda env:miniconda3-python-tutorial]",
   "language": "python",
   "name": "conda-env-miniconda3-python-tutorial-python3_myenv"
  },
  "language_info": {
   "codemirror_mode": {
    "name": "ipython",
    "version": 3
   },
   "file_extension": ".py",
   "mimetype": "text/x-python",
   "name": "python",
   "nbconvert_exporter": "python",
   "pygments_lexer": "ipython3",
   "version": "3.7.3"
  }
 },
 "nbformat": 4,
 "nbformat_minor": 4
}
