{
 "cells": [
  {
   "cell_type": "code",
   "execution_count": 1,
   "id": "eb9f482b-94c6-4f47-9337-14d8d0ba4890",
   "metadata": {},
   "outputs": [],
   "source": [
    "import file_creation\n",
    "from config import main_path_era, mcsera_obs, era_obs, start_year, end_year"
   ]
  },
  {
   "cell_type": "code",
   "execution_count": 2,
   "id": "f940d2ee-67a3-4ccc-b78a-ee89878db37e",
   "metadata": {},
   "outputs": [
    {
     "name": "stdout",
     "output_type": "stream",
     "text": [
      "/glade/scratch/molina/cesm_mcs/cesm_era5/\n",
      "/glade/scratch/molina/cesm_mcs/mcs_flextrkr_era5/\n",
      "/glade/collections/rda/data/ds633.0/\n",
      "2004\n",
      "2019\n"
     ]
    }
   ],
   "source": [
    "print(main_path_era)\n",
    "print(mcsera_obs)\n",
    "print(era_obs)\n",
    "print(start_year)\n",
    "print(end_year)"
   ]
  },
  {
   "cell_type": "markdown",
   "id": "ff5342ad-a0a2-4dda-9acc-737078296a55",
   "metadata": {},
   "source": [
    "### dictionary creation"
   ]
  },
  {
   "cell_type": "code",
   "execution_count": 3,
   "id": "a0f2d5e4-1c2f-4a88-9d72-59247080de08",
   "metadata": {},
   "outputs": [],
   "source": [
    "test = file_creation.GenerateTrainData(main_path=main_path_era,\n",
    "                                       start_year=start_year,\n",
    "                                       end_year=end_year,\n",
    "                                       variable=None,\n",
    "                                       era5_directory=era_obs,\n",
    "                                       mcs_directory=mcsera_obs,\n",
    "                                       mask_var='cloudtracknumber')"
   ]
  },
  {
   "cell_type": "code",
   "execution_count": 4,
   "id": "4225920f-362a-44e7-bf8c-8ddff712045f",
   "metadata": {
    "tags": []
   },
   "outputs": [
    {
     "name": "stdout",
     "output_type": "stream",
     "text": [
      "2004 completed\n",
      "2005 completed\n",
      "2006 completed\n",
      "2007 completed\n",
      "2008 completed\n",
      "2009 completed\n",
      "2010 completed\n",
      "2011 completed\n",
      "2012 completed\n",
      "2013 completed\n",
      "2014 completed\n",
      "2015 completed\n",
      "2016 completed\n",
      "2017 completed\n",
      "2018 completed\n"
     ]
    }
   ],
   "source": [
    "test.make_dict(start_str='2004-01-01 00:00:00', end_str='2019-12-31 23:00:00',\n",
    "               frequency='1H', savepath=main_path_era)"
   ]
  },
  {
   "cell_type": "code",
   "execution_count": 5,
   "id": "8b8ffa03-117b-43d5-a97f-e7526861d2fb",
   "metadata": {},
   "outputs": [
    {
     "name": "stdout",
     "output_type": "stream",
     "text": [
      "starting mask file generation...\n",
      "Job complete!\n"
     ]
    }
   ],
   "source": [
    "test.generate_masks(dict_freq='1H')"
   ]
  },
  {
   "cell_type": "markdown",
   "id": "0c335fb5-f52d-4d5e-ae5c-af40c079e29f",
   "metadata": {},
   "source": [
    "### variable creation"
   ]
  },
  {
   "cell_type": "code",
   "execution_count": 9,
   "id": "40e1ba2e-f0f4-4b53-9e01-340788a28e48",
   "metadata": {},
   "outputs": [
    {
     "name": "stdout",
     "output_type": "stream",
     "text": [
      "starting file generation...\n",
      "opening variable file...\n",
      "Job complete!\n"
     ]
    }
   ],
   "source": [
    "test = file_creation.GenerateTrainData(main_path=main_path_era,\n",
    "                                       start_year=start_year,\n",
    "                                       end_year=end_year,\n",
    "                                       variable='q',\n",
    "                                       era5_directory=era_obs,\n",
    "                                       mcs_directory=mcsera_obs,\n",
    "                                       mask_var='cloudtracknumber')\n",
    "test.generate_files(p_height=850, dict_freq='1H')"
   ]
  },
  {
   "cell_type": "code",
   "execution_count": null,
   "id": "0ca0c10b-8072-4ca2-adbe-50dc897f2726",
   "metadata": {},
   "outputs": [
    {
     "name": "stdout",
     "output_type": "stream",
     "text": [
      "starting file generation...\n",
      "opening variable file...\n"
     ]
    }
   ],
   "source": [
    "test = file_creation.GenerateTrainData(main_path=main_path_era,\n",
    "                                       start_year=start_year,\n",
    "                                       end_year=end_year,\n",
    "                                       variable='u',\n",
    "                                       era5_directory=era_obs,\n",
    "                                       mcs_directory=mcsera_obs,\n",
    "                                       mask_var='cloudtracknumber')\n",
    "test.generate_files(p_height=850, dict_freq='1H')"
   ]
  },
  {
   "cell_type": "code",
   "execution_count": null,
   "id": "ea8c4e7a-a075-4ec9-a0a3-1579b3f4cbe8",
   "metadata": {},
   "outputs": [],
   "source": [
    "test = file_creation.GenerateTrainData(main_path=main_path_era,\n",
    "                                       start_year=start_year,\n",
    "                                       end_year=end_year,\n",
    "                                       variable='v',\n",
    "                                       era5_directory=era_obs,\n",
    "                                       mcs_directory=mcsera_obs,\n",
    "                                       mask_var='cloudtracknumber')\n",
    "test.generate_files(p_height=850, dict_freq='1H')"
   ]
  },
  {
   "cell_type": "code",
   "execution_count": 3,
   "id": "3348a328-82eb-43f9-853d-fd1f29cb1ab2",
   "metadata": {},
   "outputs": [
    {
     "name": "stdout",
     "output_type": "stream",
     "text": [
      "starting file generation...\n",
      "opening variable file...\n",
      "Job complete!\n"
     ]
    }
   ],
   "source": [
    "test = file_creation.GenerateTrainData(main_path=main_path_era,\n",
    "                                       start_year=start_year,\n",
    "                                       end_year=end_year,\n",
    "                                       variable='tcwv',\n",
    "                                       era5_directory=era_obs,\n",
    "                                       mcs_directory=mcsera_obs,\n",
    "                                       mask_var='cloudtracknumber')\n",
    "test.generate_files(dict_freq='1H')"
   ]
  },
  {
   "cell_type": "code",
   "execution_count": 4,
   "id": "9e43a639-e8e0-4cce-99ef-03fda46f9f51",
   "metadata": {},
   "outputs": [
    {
     "name": "stdout",
     "output_type": "stream",
     "text": [
      "starting file generation...\n",
      "opening variable file...\n",
      "Job complete!\n"
     ]
    }
   ],
   "source": [
    "test = file_creation.GenerateTrainData(main_path=main_path_era,\n",
    "                                       start_year=start_year,\n",
    "                                       end_year=end_year,\n",
    "                                       variable='cp',\n",
    "                                       era5_directory='/glade/scratch/molina/',\n",
    "                                       mcs_directory=mcsera_obs,\n",
    "                                       mask_var='cloudtracknumber')\n",
    "test.generate_files(dict_freq='1H')"
   ]
  },
  {
   "cell_type": "code",
   "execution_count": 3,
   "id": "051fc238-024c-4069-95c3-8e3a5fcae320",
   "metadata": {},
   "outputs": [
    {
     "name": "stdout",
     "output_type": "stream",
     "text": [
      "starting file generation...\n",
      "opening variable file...\n",
      "Job complete!\n"
     ]
    }
   ],
   "source": [
    "test = file_creation.GenerateTrainData(main_path=main_path_era,\n",
    "                                       start_year=start_year,\n",
    "                                       end_year=end_year,\n",
    "                                       variable='ttr',\n",
    "                                       era5_directory='/glade/scratch/molina/',\n",
    "                                       mcs_directory=mcsera_obs,\n",
    "                                       mask_var='cloudtracknumber')\n",
    "test.generate_files(dict_freq='1H')"
   ]
  },
  {
   "cell_type": "markdown",
   "id": "37587a17-44a5-4b5c-934c-56c28ff945ff",
   "metadata": {},
   "source": [
    "### stats"
   ]
  },
  {
   "cell_type": "code",
   "execution_count": 5,
   "id": "e31e639d-f26d-40b3-bf98-601b2036f02c",
   "metadata": {},
   "outputs": [
    {
     "name": "stdout",
     "output_type": "stream",
     "text": [
      "File saved and completed for u850\n"
     ]
    }
   ],
   "source": [
    "test = file_creation.GenerateTrainData(main_path=main_path_era,\n",
    "                                       start_year=start_year,\n",
    "                                       end_year=end_year,\n",
    "                                       variable='u',\n",
    "                                       era5_directory=era_obs,\n",
    "                                       mcs_directory=mcsera_obs,\n",
    "                                       mask_var='cloudtracknumber')\n",
    "test.generate_train_stats('u850', dict_freq='1H', author='Maria J. Molina')"
   ]
  },
  {
   "cell_type": "code",
   "execution_count": 6,
   "id": "8a05ad0e-46a8-41a5-b459-18a4dbb334ca",
   "metadata": {},
   "outputs": [
    {
     "name": "stdout",
     "output_type": "stream",
     "text": [
      "File saved and completed for v850\n"
     ]
    }
   ],
   "source": [
    "test = file_creation.GenerateTrainData(main_path=main_path_era,\n",
    "                                       start_year=start_year,\n",
    "                                       end_year=end_year,\n",
    "                                       variable='v',\n",
    "                                       era5_directory=era_obs,\n",
    "                                       mcs_directory=mcsera_obs,\n",
    "                                       mask_var='cloudtracknumber')\n",
    "test.generate_train_stats('v850', dict_freq='1H', author='Maria J. Molina')"
   ]
  },
  {
   "cell_type": "code",
   "execution_count": 7,
   "id": "e35bf188-ab66-40a7-9471-7ba9d164470c",
   "metadata": {},
   "outputs": [
    {
     "name": "stdout",
     "output_type": "stream",
     "text": [
      "File saved and completed for q850\n"
     ]
    }
   ],
   "source": [
    "test = file_creation.GenerateTrainData(main_path=main_path_era,\n",
    "                                       start_year=start_year,\n",
    "                                       end_year=end_year,\n",
    "                                       variable='q',\n",
    "                                       era5_directory=era_obs,\n",
    "                                       mcs_directory=mcsera_obs,\n",
    "                                       mask_var='cloudtracknumber')\n",
    "test.generate_train_stats('q850', dict_freq='1H', author='Maria J. Molina')"
   ]
  },
  {
   "cell_type": "code",
   "execution_count": 8,
   "id": "f27587cc-5d5e-4840-b331-bdb8c245ef85",
   "metadata": {},
   "outputs": [
    {
     "name": "stdout",
     "output_type": "stream",
     "text": [
      "File saved and completed for cp\n"
     ]
    }
   ],
   "source": [
    "test = file_creation.GenerateTrainData(main_path=main_path_era,\n",
    "                                       start_year=start_year,\n",
    "                                       end_year=end_year,\n",
    "                                       variable='cp',\n",
    "                                       era5_directory=era_obs,\n",
    "                                       mcs_directory=mcsera_obs,\n",
    "                                       mask_var='cloudtracknumber')\n",
    "test.generate_train_stats('cp', dict_freq='1H', author='Maria J. Molina')"
   ]
  },
  {
   "cell_type": "code",
   "execution_count": 9,
   "id": "746cf9fa-ba78-449c-bb3a-b5d79124c95e",
   "metadata": {},
   "outputs": [
    {
     "name": "stdout",
     "output_type": "stream",
     "text": [
      "File saved and completed for tcwv\n"
     ]
    }
   ],
   "source": [
    "test = file_creation.GenerateTrainData(main_path=main_path_era,\n",
    "                                       start_year=start_year,\n",
    "                                       end_year=end_year,\n",
    "                                       variable='tcwv',\n",
    "                                       era5_directory=era_obs,\n",
    "                                       mcs_directory=mcsera_obs,\n",
    "                                       mask_var='cloudtracknumber')\n",
    "test.generate_train_stats('tcwv', dict_freq='1H', author='Maria J. Molina')"
   ]
  },
  {
   "cell_type": "code",
   "execution_count": 4,
   "id": "8af5cfc1-6c61-41d7-a6a0-c3f92d566b55",
   "metadata": {},
   "outputs": [
    {
     "name": "stdout",
     "output_type": "stream",
     "text": [
      "File saved and completed for ttr\n"
     ]
    }
   ],
   "source": [
    "test = file_creation.GenerateTrainData(main_path=main_path_era,\n",
    "                                       start_year=start_year,\n",
    "                                       end_year=end_year,\n",
    "                                       variable='ttr',\n",
    "                                       era5_directory=era_obs,\n",
    "                                       mcs_directory=mcsera_obs,\n",
    "                                       mask_var='cloudtracknumber')\n",
    "test.generate_train_stats('ttr', dict_freq='1H', author='Maria J. Molina')"
   ]
  },
  {
   "cell_type": "code",
   "execution_count": null,
   "id": "28920ca6-e079-4920-81b1-68b43b74d5f7",
   "metadata": {},
   "outputs": [],
   "source": []
  }
 ],
 "metadata": {
  "kernelspec": {
   "display_name": "Python [conda env:miniconda3-myenv-tfgpu]",
   "language": "python",
   "name": "conda-env-miniconda3-myenv-tfgpu-py"
  },
  "language_info": {
   "codemirror_mode": {
    "name": "ipython",
    "version": 3
   },
   "file_extension": ".py",
   "mimetype": "text/x-python",
   "name": "python",
   "nbconvert_exporter": "python",
   "pygments_lexer": "ipython3",
   "version": "3.8.13"
  }
 },
 "nbformat": 4,
 "nbformat_minor": 5
}
