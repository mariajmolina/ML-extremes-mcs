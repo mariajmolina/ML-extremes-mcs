{
 "cells": [
  {
   "cell_type": "code",
   "execution_count": 1,
   "id": "c1087076-67d2-42c0-8313-56a17a8b342f",
   "metadata": {},
   "outputs": [],
   "source": [
    "import numpy as np\n",
    "import xarray as xr\n",
    "import matplotlib.pyplot as plt\n",
    "\n",
    "import torch\n",
    "import torch.nn.functional as F\n",
    "from torch.utils.data import DataLoader\n",
    "import torch.nn as nn\n",
    "import torch.optim as optim\n",
    "\n",
    "from config import main_path_era\n",
    "from id_selector import IDSelector\n",
    "import dataset\n",
    "import unet"
   ]
  },
  {
   "cell_type": "markdown",
   "id": "50de7232-9ab2-4ab4-80a8-eb58f2e9098e",
   "metadata": {},
   "source": [
    "### generate ID list"
   ]
  },
  {
   "cell_type": "code",
   "execution_count": 2,
   "id": "d7cfa165-f13b-4c68-8428-e240db57e72c",
   "metadata": {},
   "outputs": [
    {
     "name": "stdout",
     "output_type": "stream",
     "text": [
      "starting ID generation...\n",
      "ID generation complete.\n"
     ]
    }
   ],
   "source": [
    "class_ids = IDSelector(main_path = main_path_era, \n",
    "                       start_year = 2004, \n",
    "                       end_year = 2019, \n",
    "                       month_only=[4,5,6,7], year_only=[2004], mcs_only=True, \n",
    "                       percent_train=0.7, percent_validate=0.1,)\n",
    "\n",
    "# here we generate the list of IDs by loading from a presaved dictionary\n",
    "IDlist = class_ids.generate_IDarray(dict_freq='3H')\n",
    "\n",
    "# here we shuffle and split the IDs into a testing and training set\n",
    "train_IDs, valid_IDs, test_IDs = class_ids.generate_traintest_split(IDlist, seed=0)"
   ]
  },
  {
   "cell_type": "code",
   "execution_count": 3,
   "id": "e7fe1c05-ed61-4fe0-9527-f7067f5c2d84",
   "metadata": {},
   "outputs": [
    {
     "name": "stdout",
     "output_type": "stream",
     "text": [
      "Training set contains  513  total training MCSs.\n"
     ]
    }
   ],
   "source": [
    "print(f\"Training set contains \",len(train_IDs),\" total training MCSs.\")"
   ]
  },
  {
   "cell_type": "markdown",
   "id": "c215738f-f5c3-4b6a-b924-88aa239c1641",
   "metadata": {},
   "source": [
    "### initiate training, validation, and testing data"
   ]
  },
  {
   "cell_type": "code",
   "execution_count": 4,
   "id": "e58c69c5-ab65-4e35-8089-99e76bf02259",
   "metadata": {},
   "outputs": [],
   "source": [
    "variables = [\"cp\",\"u850\", \"v850\", \"q850\"]"
   ]
  },
  {
   "cell_type": "code",
   "execution_count": 19,
   "id": "2df52d19-dcdf-4fc7-a33c-38831a56f655",
   "metadata": {},
   "outputs": [],
   "source": [
    "training_generator = dataset.CustomDataset(list_IDs = train_IDs, \n",
    "                                              path_dataID = f\"{main_path_era}/dl_files/3H/\", \n",
    "                                              variable = variables, \n",
    "                                              batch_size = 16, dim = (121, 321), \n",
    "                                              n_channels = len(variables), \n",
    "                                              n_classes = 2, shuffle = True, \n",
    "                                              norm='zscore',\n",
    "                                              )\n",
    "train_load = DataLoader(training_generator, batch_size=1, shuffle=False, drop_last=False)\n",
    "\n",
    "\n",
    "validating_generator = dataset.CustomDataset(list_IDs = valid_IDs, \n",
    "                                              path_dataID = f\"{main_path_era}/dl_files/3H/\", \n",
    "                                              variable = variables, \n",
    "                                              batch_size = 16, dim = (121, 321), \n",
    "                                              n_channels = len(variables), \n",
    "                                              n_classes = 2, shuffle = False, \n",
    "                                              norm='zscore',\n",
    "                                              )\n",
    "valid_load = DataLoader(validating_generator, batch_size=1, shuffle=False, drop_last=False)\n",
    "\n",
    "\n",
    "testing_generator = dataset.CustomDataset(list_IDs = test_IDs, \n",
    "                                              path_dataID = f\"{main_path_era}/dl_files/3H/\", \n",
    "                                              variable = variables, \n",
    "                                              batch_size = 1, dim = (121, 321), \n",
    "                                              n_channels = len(variables), \n",
    "                                              n_classes = 2, shuffle = False, \n",
    "                                              norm='zscore',\n",
    "                                              )\n",
    "test_load = DataLoader(testing_generator, batch_size=1, shuffle=False, drop_last=False)"
   ]
  },
  {
   "cell_type": "markdown",
   "id": "6e7626ce-cca2-4ae3-a405-74d47851c56c",
   "metadata": {},
   "source": [
    "### training functions"
   ]
  },
  {
   "cell_type": "code",
   "execution_count": 6,
   "id": "5d3eec40-38a0-4709-9b3c-ff1c40d59cf6",
   "metadata": {},
   "outputs": [],
   "source": [
    "def train(model, dataloader, weights=None):\n",
    "    \"\"\"\n",
    "    Training function.\n",
    "    \n",
    "    Args:\n",
    "        model (torch): pytorch neural network.\n",
    "        dataloader (torch): pytorch dataloader.\n",
    "        weights (boolean): weights for custom loss.\n",
    "    \n",
    "    \"\"\"\n",
    "    model.train()\n",
    "    \n",
    "    running_loss = 0.0\n",
    "    corrcoef_loss = 0.0\n",
    "    \n",
    "    for data in dataloader:\n",
    "        \n",
    "        img_noisy = data['train'].squeeze()\n",
    "        img_noisy = img_noisy.to(device)\n",
    "        \n",
    "        img_label = data['test'].squeeze()\n",
    "        img_label = img_label.to(device)\n",
    "\n",
    "        outputs = model(img_noisy.float())\n",
    "        \n",
    "        try:\n",
    "            if not weights:\n",
    "                loss = criterion(outputs, img_label.float())\n",
    "                \n",
    "        except ValueError:\n",
    "            loss = criterion(outputs, img_label.float(), weights)\n",
    "            \n",
    "        closs = secondcrt(outputs, img_label.float())\n",
    "        \n",
    "        optimizer.zero_grad()   # back prop\n",
    "        loss.backward()\n",
    "        optimizer.step()\n",
    "        \n",
    "        running_loss += loss.item()\n",
    "        corrcoef_loss += closs.item()\n",
    "    \n",
    "    train_loss = running_loss / len(dataloader)\n",
    "    coef_loss = corrcoef_loss / len(dataloader)\n",
    "    \n",
    "    return train_loss, coef_loss"
   ]
  },
  {
   "cell_type": "code",
   "execution_count": 7,
   "id": "0e78d7a2-e2c6-404e-88e2-7dbf7b311f0e",
   "metadata": {},
   "outputs": [],
   "source": [
    "def validate(model, dataloader, weights=None):\n",
    "    \"\"\"\n",
    "    Validation function.\n",
    "    \n",
    "    Args:\n",
    "        model: pytorch neural network.\n",
    "        dataloader: pytorch dataloader.\n",
    "        weights (boolean): weights for custom loss.\n",
    "    \n",
    "    \"\"\"\n",
    "    model.eval()\n",
    "    \n",
    "    running_loss = 0.0\n",
    "    corrcoef_loss = 0.0\n",
    "    \n",
    "    with torch.no_grad():\n",
    "        \n",
    "        for i, data in enumerate(dataloader):\n",
    "\n",
    "            img_noisy = data['train'].squeeze()\n",
    "            img_noisy = img_noisy.to(device)\n",
    "\n",
    "            img_label = data['test'].squeeze()\n",
    "            img_label = img_label.to(device)\n",
    "\n",
    "            outputs = model(img_noisy.float())\n",
    "            \n",
    "            try:\n",
    "                if not weights:\n",
    "                    loss = criterion(outputs, img_label.float())\n",
    "\n",
    "            except ValueError:\n",
    "                loss = criterion(outputs, img_label.float(), weights)\n",
    "\n",
    "            closs = secondcrt(outputs, img_label.float())\n",
    "\n",
    "            running_loss += loss.item()\n",
    "            corrcoef_loss += closs.item()\n",
    "        \n",
    "    val_loss = running_loss / len(dataloader)\n",
    "    coef_loss = corrcoef_loss / len(dataloader)\n",
    "    \n",
    "    return val_loss, coef_loss"
   ]
  },
  {
   "cell_type": "markdown",
   "id": "b61357c9-b31e-4afc-934b-45fc24e243a8",
   "metadata": {},
   "source": [
    "### initiate unet for training"
   ]
  },
  {
   "cell_type": "code",
   "execution_count": 8,
   "id": "6a23ce81-712a-4bde-b1b0-f0a6d5cba3d4",
   "metadata": {},
   "outputs": [],
   "source": [
    "net = unet.UNet(n_channels=4, n_classes=2)"
   ]
  },
  {
   "cell_type": "code",
   "execution_count": 9,
   "id": "22a9f667-40c1-4d7d-ba56-ab2602a54de1",
   "metadata": {
    "tags": []
   },
   "outputs": [],
   "source": [
    "LEARNING_RATE = 1e-4\n",
    "\n",
    "# the optimizer\n",
    "optimizer = optim.Adam(net.parameters(), lr=LEARNING_RATE, amsgrad=False)\n",
    "\n",
    "# the loss function\n",
    "criterion = nn.MSELoss(reduction='sum')\n",
    "secondcrt = unet.IoULoss()"
   ]
  },
  {
   "cell_type": "code",
   "execution_count": 10,
   "id": "5dfe111b-ded5-47d0-9195-55f50ebe7eaf",
   "metadata": {},
   "outputs": [
    {
     "name": "stdout",
     "output_type": "stream",
     "text": [
      "cpu\n"
     ]
    },
    {
     "data": {
      "text/plain": [
       "UNet(\n",
       "  (inc): DoubleConv(\n",
       "    (double_conv): Sequential(\n",
       "      (0): Conv2d(4, 64, kernel_size=(3, 3), stride=(1, 1), padding=(1, 1))\n",
       "      (1): BatchNorm2d(64, eps=1e-05, momentum=0.1, affine=True, track_running_stats=True)\n",
       "      (2): ReLU(inplace=True)\n",
       "      (3): Conv2d(64, 64, kernel_size=(3, 3), stride=(1, 1), padding=(1, 1))\n",
       "      (4): BatchNorm2d(64, eps=1e-05, momentum=0.1, affine=True, track_running_stats=True)\n",
       "      (5): ReLU(inplace=True)\n",
       "    )\n",
       "  )\n",
       "  (down1): Down(\n",
       "    (maxpool_conv): Sequential(\n",
       "      (0): MaxPool2d(kernel_size=2, stride=2, padding=0, dilation=1, ceil_mode=False)\n",
       "      (1): DoubleConv(\n",
       "        (double_conv): Sequential(\n",
       "          (0): Conv2d(64, 128, kernel_size=(3, 3), stride=(1, 1), padding=(1, 1))\n",
       "          (1): BatchNorm2d(128, eps=1e-05, momentum=0.1, affine=True, track_running_stats=True)\n",
       "          (2): ReLU(inplace=True)\n",
       "          (3): Conv2d(128, 128, kernel_size=(3, 3), stride=(1, 1), padding=(1, 1))\n",
       "          (4): BatchNorm2d(128, eps=1e-05, momentum=0.1, affine=True, track_running_stats=True)\n",
       "          (5): ReLU(inplace=True)\n",
       "        )\n",
       "      )\n",
       "    )\n",
       "  )\n",
       "  (down2): Down(\n",
       "    (maxpool_conv): Sequential(\n",
       "      (0): MaxPool2d(kernel_size=2, stride=2, padding=0, dilation=1, ceil_mode=False)\n",
       "      (1): DoubleConv(\n",
       "        (double_conv): Sequential(\n",
       "          (0): Conv2d(128, 256, kernel_size=(3, 3), stride=(1, 1), padding=(1, 1))\n",
       "          (1): BatchNorm2d(256, eps=1e-05, momentum=0.1, affine=True, track_running_stats=True)\n",
       "          (2): ReLU(inplace=True)\n",
       "          (3): Conv2d(256, 256, kernel_size=(3, 3), stride=(1, 1), padding=(1, 1))\n",
       "          (4): BatchNorm2d(256, eps=1e-05, momentum=0.1, affine=True, track_running_stats=True)\n",
       "          (5): ReLU(inplace=True)\n",
       "        )\n",
       "      )\n",
       "    )\n",
       "  )\n",
       "  (down3): Down(\n",
       "    (maxpool_conv): Sequential(\n",
       "      (0): MaxPool2d(kernel_size=2, stride=2, padding=0, dilation=1, ceil_mode=False)\n",
       "      (1): DoubleConv(\n",
       "        (double_conv): Sequential(\n",
       "          (0): Conv2d(256, 512, kernel_size=(3, 3), stride=(1, 1), padding=(1, 1))\n",
       "          (1): BatchNorm2d(512, eps=1e-05, momentum=0.1, affine=True, track_running_stats=True)\n",
       "          (2): ReLU(inplace=True)\n",
       "          (3): Conv2d(512, 512, kernel_size=(3, 3), stride=(1, 1), padding=(1, 1))\n",
       "          (4): BatchNorm2d(512, eps=1e-05, momentum=0.1, affine=True, track_running_stats=True)\n",
       "          (5): ReLU(inplace=True)\n",
       "        )\n",
       "      )\n",
       "    )\n",
       "  )\n",
       "  (down4): Down(\n",
       "    (maxpool_conv): Sequential(\n",
       "      (0): MaxPool2d(kernel_size=2, stride=2, padding=0, dilation=1, ceil_mode=False)\n",
       "      (1): DoubleConv(\n",
       "        (double_conv): Sequential(\n",
       "          (0): Conv2d(512, 512, kernel_size=(3, 3), stride=(1, 1), padding=(1, 1))\n",
       "          (1): BatchNorm2d(512, eps=1e-05, momentum=0.1, affine=True, track_running_stats=True)\n",
       "          (2): ReLU(inplace=True)\n",
       "          (3): Conv2d(512, 512, kernel_size=(3, 3), stride=(1, 1), padding=(1, 1))\n",
       "          (4): BatchNorm2d(512, eps=1e-05, momentum=0.1, affine=True, track_running_stats=True)\n",
       "          (5): ReLU(inplace=True)\n",
       "        )\n",
       "      )\n",
       "    )\n",
       "  )\n",
       "  (up1): Up(\n",
       "    (up): Upsample(scale_factor=2.0, mode=bilinear)\n",
       "    (conv): DoubleConv(\n",
       "      (double_conv): Sequential(\n",
       "        (0): Conv2d(1024, 512, kernel_size=(3, 3), stride=(1, 1), padding=(1, 1))\n",
       "        (1): BatchNorm2d(512, eps=1e-05, momentum=0.1, affine=True, track_running_stats=True)\n",
       "        (2): ReLU(inplace=True)\n",
       "        (3): Conv2d(512, 256, kernel_size=(3, 3), stride=(1, 1), padding=(1, 1))\n",
       "        (4): BatchNorm2d(256, eps=1e-05, momentum=0.1, affine=True, track_running_stats=True)\n",
       "        (5): ReLU(inplace=True)\n",
       "      )\n",
       "    )\n",
       "  )\n",
       "  (up2): Up(\n",
       "    (up): Upsample(scale_factor=2.0, mode=bilinear)\n",
       "    (conv): DoubleConv(\n",
       "      (double_conv): Sequential(\n",
       "        (0): Conv2d(512, 256, kernel_size=(3, 3), stride=(1, 1), padding=(1, 1))\n",
       "        (1): BatchNorm2d(256, eps=1e-05, momentum=0.1, affine=True, track_running_stats=True)\n",
       "        (2): ReLU(inplace=True)\n",
       "        (3): Conv2d(256, 128, kernel_size=(3, 3), stride=(1, 1), padding=(1, 1))\n",
       "        (4): BatchNorm2d(128, eps=1e-05, momentum=0.1, affine=True, track_running_stats=True)\n",
       "        (5): ReLU(inplace=True)\n",
       "      )\n",
       "    )\n",
       "  )\n",
       "  (up3): Up(\n",
       "    (up): Upsample(scale_factor=2.0, mode=bilinear)\n",
       "    (conv): DoubleConv(\n",
       "      (double_conv): Sequential(\n",
       "        (0): Conv2d(256, 128, kernel_size=(3, 3), stride=(1, 1), padding=(1, 1))\n",
       "        (1): BatchNorm2d(128, eps=1e-05, momentum=0.1, affine=True, track_running_stats=True)\n",
       "        (2): ReLU(inplace=True)\n",
       "        (3): Conv2d(128, 64, kernel_size=(3, 3), stride=(1, 1), padding=(1, 1))\n",
       "        (4): BatchNorm2d(64, eps=1e-05, momentum=0.1, affine=True, track_running_stats=True)\n",
       "        (5): ReLU(inplace=True)\n",
       "      )\n",
       "    )\n",
       "  )\n",
       "  (up4): Up(\n",
       "    (up): Upsample(scale_factor=2.0, mode=bilinear)\n",
       "    (conv): DoubleConv(\n",
       "      (double_conv): Sequential(\n",
       "        (0): Conv2d(128, 64, kernel_size=(3, 3), stride=(1, 1), padding=(1, 1))\n",
       "        (1): BatchNorm2d(64, eps=1e-05, momentum=0.1, affine=True, track_running_stats=True)\n",
       "        (2): ReLU(inplace=True)\n",
       "        (3): Conv2d(64, 64, kernel_size=(3, 3), stride=(1, 1), padding=(1, 1))\n",
       "        (4): BatchNorm2d(64, eps=1e-05, momentum=0.1, affine=True, track_running_stats=True)\n",
       "        (5): ReLU(inplace=True)\n",
       "      )\n",
       "    )\n",
       "  )\n",
       "  (outc): OutConv(\n",
       "    (conv): Conv2d(64, 2, kernel_size=(1, 1), stride=(1, 1))\n",
       "  )\n",
       ")"
      ]
     },
     "execution_count": 10,
     "metadata": {},
     "output_type": "execute_result"
    }
   ],
   "source": [
    "device = unet.get_device()\n",
    "print(device)\n",
    "net.to(device)"
   ]
  },
  {
   "cell_type": "code",
   "execution_count": 11,
   "id": "08ba3f24-7ee8-489d-89e1-84d257881c79",
   "metadata": {},
   "outputs": [
    {
     "name": "stdout",
     "output_type": "stream",
     "text": [
      "Epoch 1 of 30; Train Loss: 403655.4253, Train IoU: 0.6301; Val Loss: 291365.9125, Val IoU: 0.6191\n",
      "Epoch 2 of 30; Train Loss: 118701.8237, Train IoU: 0.5762; Val Loss: 233959.9484, Val IoU: 0.5800\n",
      "Epoch 3 of 30; Train Loss: 92469.1753, Train IoU: 0.5678; Val Loss: 96887.0156, Val IoU: 0.5698\n",
      "Epoch 4 of 30; Train Loss: 65579.7050, Train IoU: 0.5570; Val Loss: 104798.9078, Val IoU: 0.5593\n",
      "Epoch 5 of 30; Train Loss: 48995.8103, Train IoU: 0.5485; Val Loss: 46961.4445, Val IoU: 0.5480\n",
      "Epoch 6 of 30; Train Loss: 37693.3148, Train IoU: 0.5412; Val Loss: 37274.7133, Val IoU: 0.5414\n",
      "Epoch 7 of 30; Train Loss: 31640.2032, Train IoU: 0.5361; Val Loss: 31470.3637, Val IoU: 0.5363\n",
      "Epoch 8 of 30; Train Loss: 28009.2162, Train IoU: 0.5323; Val Loss: 27860.5820, Val IoU: 0.5324\n",
      "Epoch 9 of 30; Train Loss: 25720.1552, Train IoU: 0.5293; Val Loss: 26196.8285, Val IoU: 0.5298\n",
      "Epoch 10 of 30; Train Loss: 24248.0159, Train IoU: 0.5271; Val Loss: 25868.8480, Val IoU: 0.5282\n",
      "Epoch 11 of 30; Train Loss: 23205.1968, Train IoU: 0.5253; Val Loss: 23652.8312, Val IoU: 0.5260\n",
      "Epoch 12 of 30; Train Loss: 22344.9058, Train IoU: 0.5238; Val Loss: 23194.3273, Val IoU: 0.5245\n",
      "Epoch 13 of 30; Train Loss: 21684.2887, Train IoU: 0.5228; Val Loss: 22476.1898, Val IoU: 0.5227\n",
      "Epoch 14 of 30; Train Loss: 21207.8546, Train IoU: 0.5220; Val Loss: 22316.7645, Val IoU: 0.5224\n",
      "Epoch 15 of 30; Train Loss: 20716.3107, Train IoU: 0.5215; Val Loss: 22967.9133, Val IoU: 0.5235\n",
      "Epoch 16 of 30; Train Loss: 20247.4146, Train IoU: 0.5210; Val Loss: 23950.8016, Val IoU: 0.5246\n",
      "Epoch 17 of 30; Train Loss: 19421.1388, Train IoU: 0.5205; Val Loss: 22231.4766, Val IoU: 0.5222\n",
      "Epoch 18 of 30; Train Loss: 18961.0147, Train IoU: 0.5201; Val Loss: 22723.5391, Val IoU: 0.5227\n",
      "Epoch 19 of 30; Train Loss: 18597.7178, Train IoU: 0.5199; Val Loss: 21801.0340, Val IoU: 0.5203\n",
      "Epoch 20 of 30; Train Loss: 18259.8586, Train IoU: 0.5197; Val Loss: 22235.4434, Val IoU: 0.5207\n",
      "Epoch 21 of 30; Train Loss: 17064.6050, Train IoU: 0.5192; Val Loss: 22033.6305, Val IoU: 0.5206\n",
      "Epoch 22 of 30; Train Loss: 16925.9638, Train IoU: 0.5199; Val Loss: 20927.4262, Val IoU: 0.5209\n",
      "Epoch 23 of 30; Train Loss: 16472.2980, Train IoU: 0.5186; Val Loss: 21008.3164, Val IoU: 0.5203\n",
      "Epoch 24 of 30; Train Loss: 16100.4038, Train IoU: 0.5186; Val Loss: 26008.9434, Val IoU: 0.5229\n",
      "Epoch 25 of 30; Train Loss: 14893.1749, Train IoU: 0.5182; Val Loss: 20819.4641, Val IoU: 0.5209\n",
      "Epoch 26 of 30; Train Loss: 14489.8377, Train IoU: 0.5181; Val Loss: 21622.9906, Val IoU: 0.5202\n",
      "Epoch 27 of 30; Train Loss: 14632.5372, Train IoU: 0.5181; Val Loss: 19959.4641, Val IoU: 0.5197\n",
      "Epoch 28 of 30; Train Loss: 13690.2176, Train IoU: 0.5176; Val Loss: 20414.6988, Val IoU: 0.5193\n",
      "Epoch 29 of 30; Train Loss: 13338.1508, Train IoU: 0.5175; Val Loss: 19754.3168, Val IoU: 0.5186\n",
      "Epoch 30 of 30; Train Loss: 12452.4605, Train IoU: 0.5173; Val Loss: 19586.9965, Val IoU: 0.5186\n"
     ]
    }
   ],
   "source": [
    "NUM_EPOCHS = 30\n",
    "\n",
    "train_loss = []\n",
    "valid_loss = []\n",
    "\n",
    "train_corr = []\n",
    "valid_corr = []\n",
    "\n",
    "for enum, epoch in enumerate(range(NUM_EPOCHS)):\n",
    "    \n",
    "    t_loss, t_corr = train(net, train_load, weights = None)\n",
    "    v_loss, v_corr = validate(net, valid_load, weights = None)\n",
    "    \n",
    "    train_loss.append(t_loss)\n",
    "    valid_loss.append(v_loss)\n",
    "    \n",
    "    train_corr.append(t_corr)\n",
    "    valid_corr.append(v_corr)\n",
    "    \n",
    "    print(\n",
    "        f\"Epoch {epoch + 1} of {NUM_EPOCHS}; Train Loss: {t_loss:.4f}, Train IoU: {t_corr:.4f}; Val Loss: {v_loss:.4f}, Val IoU: {v_corr:.4f}\")"
   ]
  },
  {
   "cell_type": "code",
   "execution_count": 12,
   "id": "738aaa92-5c9f-492a-be3c-28ba751cb4e9",
   "metadata": {},
   "outputs": [
    {
     "data": {
      "image/png": "[encoded data removed]",
      "text/plain": [
       "<Figure size 432x288 with 1 Axes>"
      ]
     },
     "metadata": {
      "needs_background": "light"
     },
     "output_type": "display_data"
    },
    {
     "data": {
      "image/png": "[encoded data removed]",
      "text/plain": [
       "<Figure size 432x288 with 1 Axes>"
      ]
     },
     "metadata": {
      "needs_background": "light"
     },
     "output_type": "display_data"
    }
   ],
   "source": [
    "%matplotlib inline\n",
    "plt.plot(train_loss[:]);\n",
    "plt.plot(valid_loss[:]);\n",
    "plt.show()\n",
    "\n",
    "plt.plot(train_corr[:]);\n",
    "plt.plot(valid_corr[:]);\n",
    "plt.show()"
   ]
  },
  {
   "cell_type": "code",
   "execution_count": 13,
   "id": "bad7c9c2-294b-4ff4-84c6-b92238af10d9",
   "metadata": {},
   "outputs": [],
   "source": [
    "#torch.save(net.state_dict(), '../trained_models/model_week4_temp.pt')"
   ]
  },
  {
   "cell_type": "markdown",
   "id": "304164c2-2feb-4403-b303-6d884e1a54a4",
   "metadata": {},
   "source": [
    "### evaluation"
   ]
  },
  {
   "cell_type": "code",
   "execution_count": 43,
   "id": "09a8c723-94bb-4c84-92c5-dbbed22c350e",
   "metadata": {},
   "outputs": [],
   "source": [
    "def generate_predictions(model, IDs, torch_dataset, torch_dataloader, num_classes=2):\n",
    "    \n",
    "    shape_0 = IDs.shape[0]\n",
    "    shape_1 = torch_dataset.__getitem__(0)['train'].squeeze().shape[1]\n",
    "    shape_2 = torch_dataset.__getitem__(0)['train'].squeeze().shape[2]\n",
    "\n",
    "    predictions_ = np.zeros((shape_0, num_classes, shape_1, shape_2))\n",
    "    pred_labels_ = np.zeros((shape_0, num_classes, shape_1, shape_2))\n",
    "    \n",
    "    indx_ = []\n",
    "    model.eval()\n",
    "    count_ = 0\n",
    "\n",
    "    with torch.no_grad():\n",
    "        \n",
    "        for i, data in enumerate(torch_dataloader):\n",
    "            \n",
    "            img_noisy = data['train'].squeeze(0)\n",
    "            img_noisy = img_noisy.to(device)\n",
    "            \n",
    "            img_label = data['test'].squeeze(0)\n",
    "            img_label = img_label.to(device)\n",
    "            \n",
    "            indx_.append(data['minibatch_indx'])\n",
    "            \n",
    "            outputs = model(img_noisy.float())\n",
    "            \n",
    "            for out_ in range(outputs.shape[0]):\n",
    "                \n",
    "                predictions_[count_, ...] = outputs.cpu()[out_, ...]\n",
    "                pred_labels_[count_, ...] = img_label.cpu()[out_, ...]\n",
    "                \n",
    "                count_ += 1\n",
    "                \n",
    "    indx_ = np.array([ind for i in indx_ for ind in i.numpy()])\n",
    "    \n",
    "    return predictions_.astype(np.float32), pred_labels_.astype(np.float32), indx_"
   ]
  },
  {
   "cell_type": "code",
   "execution_count": 44,
   "id": "06f98c72-98c7-4f56-b745-865d37e25a71",
   "metadata": {},
   "outputs": [],
   "source": [
    "predictions_, pred_labels_, indx_ = generate_predictions(net, test_IDs, testing_generator, test_load,)"
   ]
  },
  {
   "cell_type": "code",
   "execution_count": 72,
   "id": "6a9d06c4-deda-4fdf-932b-78aa8b182d63",
   "metadata": {},
   "outputs": [
    {
     "data": {
      "image/png": "[encoded data removed]",
      "text/plain": [
       "<Figure size 432x288 with 1 Axes>"
      ]
     },
     "metadata": {
      "needs_background": "light"
     },
     "output_type": "display_data"
    }
   ],
   "source": [
    "plt.pcolormesh(predictions_[102,0,:,:], vmin=0, vmax=1, cmap='Reds'); plt.show()"
   ]
  },
  {
   "cell_type": "code",
   "execution_count": 73,
   "id": "19fbbd50-c854-4fca-8aec-be626ba8fefb",
   "metadata": {},
   "outputs": [
    {
     "data": {
      "image/png": "[encoded data removed]",
      "text/plain": [
       "<Figure size 432x288 with 1 Axes>"
      ]
     },
     "metadata": {
      "needs_background": "light"
     },
     "output_type": "display_data"
    }
   ],
   "source": [
    "plt.pcolormesh(pred_labels_[102,0,:,:], vmin=0, vmax=1, cmap='Reds'); plt.show()"
   ]
  },
  {
   "cell_type": "code",
   "execution_count": null,
   "id": "3a9e45e2-be73-4823-b1db-ffd008b0fbb1",
   "metadata": {},
   "outputs": [],
   "source": []
  }
 ],
 "metadata": {
  "kernelspec": {
   "display_name": "Python [conda env:miniconda3-myenv-tfgpu]",
   "language": "python",
   "name": "conda-env-miniconda3-myenv-tfgpu-py"
  },
  "language_info": {
   "codemirror_mode": {
    "name": "ipython",
    "version": 3
   },
   "file_extension": ".py",
   "mimetype": "text/x-python",
   "name": "python",
   "nbconvert_exporter": "python",
   "pygments_lexer": "ipython3",
   "version": "3.8.13"
  }
 },
 "nbformat": 4,
 "nbformat_minor": 5
}
