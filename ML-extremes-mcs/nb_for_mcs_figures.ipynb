{
 "cells": [
  {
   "cell_type": "code",
   "execution_count": null,
   "metadata": {},
   "outputs": [],
   "source": [
    "import matplotlib.pyplot as plt\n",
    "import numpy as np\n",
    "import xarray as xr"
   ]
  },
  {
   "cell_type": "code",
   "execution_count": null,
   "metadata": {},
   "outputs": [],
   "source": [
    "import id_selector\n",
    "\n",
    "ids_object = id_selector.IDSelector(main_path=id_selector.main_path_003, \n",
    "                                    start_year=id_selector.start_year, end_year=id_selector.end_year, \n",
    "                                    month_only=[3,4,5,6], year_only=None, mcs_only=True, \n",
    "                                    percent_train=0.7,\n",
    "                                    ens_num='003')\n",
    "\n",
    "IDs_array = ids_object.generate_IDarray()\n",
    "train_IDs, test_IDs = ids_object.generate_traintest_split(IDs_array, seed=0)\n",
    "print(f\"total number of training data based on selections : {train_IDs.shape[0]}\")"
   ]
  },
  {
   "cell_type": "code",
   "execution_count": null,
   "metadata": {},
   "outputs": [],
   "source": [
    "print(np.arange(500,513,1))\n",
    "print(IDs_array[:12])\n",
    "print(np.hstack([np.arange(500,513,1),IDs_array[:12]]))\n",
    "looparray = np.hstack([np.arange(500,513,1),IDs_array[:12]])"
   ]
  },
  {
   "cell_type": "code",
   "execution_count": null,
   "metadata": {},
   "outputs": [],
   "source": [
    "import visualize\n",
    "from config import main_path_003, us_states_location, savefig_path"
   ]
  },
  {
   "cell_type": "code",
   "execution_count": null,
   "metadata": {},
   "outputs": [],
   "source": [
    "STATES = visualize.create_STATES(us_states_location=f'{us_states_location}')\n",
    "\n",
    "for j, i in enumerate(looparray):\n",
    "    T = xr.open_dataset(f'{main_path_003}/dl_files/file003_h4_TS_ID{i}.nc')\n",
    "    P = xr.open_dataset(f'{main_path_003}/dl_files/file003_h4_PSL_ID{i}.nc')\n",
    "    Q = xr.open_dataset(f'{main_path_003}/dl_files/file003_h3_QBOT_ID{i}.nc')\n",
    "    V = xr.open_dataset(f'{main_path_003}/dl_files/file003_h3_VBOT_ID{i}.nc')\n",
    "    U = xr.open_dataset(f'{main_path_003}/dl_files/file003_h3_UBOT_ID{i}.nc')\n",
    "    ms = xr.open_dataset(f'{main_path_003}/dl_files/mask_ID{i}.nc')\n",
    "    visualize.create_training_plot(T, 'TS', STATES, cmap='hot_r', vmin=270, vmax=295, dpi=200, savedir=savefig_path, indx=j)\n",
    "    visualize.create_training_plot(P, 'PSL', STATES, cmap='bone_r', vmin=99500, vmax=102000, dpi=200, savedir=savefig_path, indx=j)\n",
    "    visualize.create_training_plot(Q, 'QBOT', STATES, cmap='BuGn', vmin=0.002, vmax=0.014, dpi=200, savedir=savefig_path, indx=j)\n",
    "    visualize.create_training_plot(V, 'VBOT', STATES, cmap='coolwarm', vmin=-10, vmax=10, dpi=200, savedir=savefig_path, indx=j)\n",
    "    visualize.create_training_plot(U, 'UBOT', STATES, cmap='Spectral', vmin=-7.5, vmax=7.5, dpi=200, savedir=savefig_path, indx=j)\n",
    "    visualize.create_training_plot(ms, 'binary_tag', STATES, cmap='Greys', vmin=0, vmax=1, dpi=200, savedir=savefig_path, indx=j)"
   ]
  },
  {
   "cell_type": "code",
   "execution_count": null,
   "metadata": {},
   "outputs": [],
   "source": [
    "visualize.grid2gif(savefig_path+'/trainplot_TS_{0..24}.png', f'{savefig_path}/trainplot_TS.gif')\n",
    "visualize.grid2gif(savefig_path+'/trainplot_PSL_{0..24}.png', f'{savefig_path}/trainplot_PSL.gif')\n",
    "visualize.grid2gif(savefig_path+'/trainplot_QBOT_{0..24}.png', f'{savefig_path}/trainplot_QBOT.gif')\n",
    "visualize.grid2gif(savefig_path+'/trainplot_VBOT_{0..24}.png', f'{savefig_path}/trainplot_VBOT.gif')\n",
    "visualize.grid2gif(savefig_path+'/trainplot_UBOT_{0..24}.png', f'{savefig_path}/trainplot_UBOT.gif')\n",
    "visualize.grid2gif(savefig_path+'/trainplot_binary_tag_{0..24}.png', f'{savefig_path}/trainplot_MASK.gif')"
   ]
  }
 ],
 "metadata": {
  "kernelspec": {
   "display_name": "Python [conda env:python-tutorial]",
   "language": "python",
   "name": "conda-env-python-tutorial-py"
  },
  "language_info": {
   "codemirror_mode": {
    "name": "ipython",
    "version": 3
   },
   "file_extension": ".py",
   "mimetype": "text/x-python",
   "name": "python",
   "nbconvert_exporter": "python",
   "pygments_lexer": "ipython3",
   "version": "3.7.3"
  }
 },
 "nbformat": 4,
 "nbformat_minor": 4
}
