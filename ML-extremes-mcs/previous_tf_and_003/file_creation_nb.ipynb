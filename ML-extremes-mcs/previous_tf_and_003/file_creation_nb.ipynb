{
 "cells": [
  {
   "cell_type": "code",
   "execution_count": 1,
   "metadata": {},
   "outputs": [],
   "source": [
    "import file_creation"
   ]
  },
  {
   "cell_type": "code",
   "execution_count": 2,
   "metadata": {},
   "outputs": [
    {
     "name": "stdout",
     "output_type": "stream",
     "text": [
      "starting file generation...\n",
      "opening variable file...\n",
      "2000 opened and sliced successfully...\n",
      "2001 opened and sliced successfully...\n",
      "2002 opened and sliced successfully...\n",
      "2003 opened and sliced successfully...\n",
      "2004 opened and sliced successfully...\n",
      "2005 opened and sliced successfully...\n",
      "Job complete!\n"
     ]
    }
   ],
   "source": [
    "test = file_creation.GenerateTrainData(\n",
    "                                main_path=file_creation.main_path_003,\n",
    "                                start_year=file_creation.start_year,\n",
    "                                end_year=file_creation.end_year,\n",
    "                                variable='QBOT',\n",
    "                                month=None,\n",
    "                                instant=False,\n",
    "                                height=None,\n",
    "                                pressure=False,\n",
    "                                ens_num='003')\n",
    "test.generate_files()"
   ]
  },
  {
   "cell_type": "code",
   "execution_count": 3,
   "metadata": {},
   "outputs": [
    {
     "name": "stdout",
     "output_type": "stream",
     "text": [
      "starting file generation...\n",
      "opening variable file...\n",
      "2000 opened and sliced successfully...\n",
      "2001 opened and sliced successfully...\n",
      "2002 opened and sliced successfully...\n",
      "2003 opened and sliced successfully...\n",
      "2004 opened and sliced successfully...\n",
      "2005 opened and sliced successfully...\n",
      "Job complete!\n"
     ]
    }
   ],
   "source": [
    "test = file_creation.GenerateTrainData(\n",
    "                                main_path=file_creation.main_path_003,\n",
    "                                start_year=file_creation.start_year,\n",
    "                                end_year=file_creation.end_year,\n",
    "                                variable='TS',\n",
    "                                month=None,\n",
    "                                instant=True,\n",
    "                                height=None,\n",
    "                                pressure=False,\n",
    "                                ens_num='003')\n",
    "test.generate_files()"
   ]
  },
  {
   "cell_type": "code",
   "execution_count": 4,
   "metadata": {},
   "outputs": [
    {
     "name": "stdout",
     "output_type": "stream",
     "text": [
      "starting file generation...\n",
      "opening variable file...\n",
      "2000 opened and sliced successfully...\n",
      "2001 opened and sliced successfully...\n",
      "2002 opened and sliced successfully...\n",
      "2003 opened and sliced successfully...\n",
      "2004 opened and sliced successfully...\n",
      "2005 opened and sliced successfully...\n",
      "Job complete!\n"
     ]
    }
   ],
   "source": [
    "test = file_creation.GenerateTrainData(\n",
    "                                main_path=file_creation.main_path_003,\n",
    "                                start_year=file_creation.start_year,\n",
    "                                end_year=file_creation.end_year,\n",
    "                                variable='PSL',\n",
    "                                month=None,\n",
    "                                instant=True,\n",
    "                                height=None,\n",
    "                                pressure=False,\n",
    "                                ens_num='003')\n",
    "test.generate_files()"
   ]
  },
  {
   "cell_type": "code",
   "execution_count": 5,
   "metadata": {},
   "outputs": [
    {
     "name": "stdout",
     "output_type": "stream",
     "text": [
      "starting mask file generation...\n",
      "Job complete!\n"
     ]
    }
   ],
   "source": [
    "test = file_creation.GenerateTrainData(\n",
    "                                main_path=file_creation.main_path_003,\n",
    "                                start_year=file_creation.start_year,\n",
    "                                end_year=file_creation.end_year,\n",
    "                                variable=None,\n",
    "                                month=None,\n",
    "                                instant=False,\n",
    "                                height=None,\n",
    "                                pressure=False,\n",
    "                                ens_num='003')\n",
    "test.generate_masks()"
   ]
  },
  {
   "cell_type": "code",
   "execution_count": 6,
   "metadata": {},
   "outputs": [
    {
     "name": "stdout",
     "output_type": "stream",
     "text": [
      "starting file generation...\n",
      "opening variable file...\n",
      "2000 opened and sliced successfully...\n",
      "2001 opened and sliced successfully...\n",
      "2002 opened and sliced successfully...\n",
      "2003 opened and sliced successfully...\n",
      "2004 opened and sliced successfully...\n",
      "2005 opened and sliced successfully...\n",
      "Job complete!\n"
     ]
    }
   ],
   "source": [
    "test = file_creation.GenerateTrainData(\n",
    "                                main_path=file_creation.main_path_003,\n",
    "                                start_year=file_creation.start_year,\n",
    "                                end_year=file_creation.end_year,\n",
    "                                variable='UBOT',\n",
    "                                month=None,\n",
    "                                instant=False,\n",
    "                                height=None,\n",
    "                                pressure=False,\n",
    "                                ens_num='003')\n",
    "test.generate_files()"
   ]
  },
  {
   "cell_type": "code",
   "execution_count": 7,
   "metadata": {},
   "outputs": [
    {
     "name": "stdout",
     "output_type": "stream",
     "text": [
      "starting file generation...\n",
      "opening variable file...\n",
      "2000 opened and sliced successfully...\n",
      "2001 opened and sliced successfully...\n",
      "2002 opened and sliced successfully...\n",
      "2003 opened and sliced successfully...\n",
      "2004 opened and sliced successfully...\n",
      "2005 opened and sliced successfully...\n",
      "Job complete!\n"
     ]
    }
   ],
   "source": [
    "test = file_creation.GenerateTrainData(\n",
    "                                main_path=file_creation.main_path_003,\n",
    "                                start_year=file_creation.start_year,\n",
    "                                end_year=file_creation.end_year,\n",
    "                                variable='UBOT',\n",
    "                                month=None,\n",
    "                                instant=True,\n",
    "                                height=None,\n",
    "                                pressure=False,\n",
    "                                ens_num='003')\n",
    "test.generate_files()"
   ]
  },
  {
   "cell_type": "code",
   "execution_count": 8,
   "metadata": {},
   "outputs": [
    {
     "name": "stdout",
     "output_type": "stream",
     "text": [
      "starting file generation...\n",
      "opening variable file...\n",
      "2000 opened and sliced successfully...\n",
      "2001 opened and sliced successfully...\n",
      "2002 opened and sliced successfully...\n",
      "2003 opened and sliced successfully...\n",
      "2004 opened and sliced successfully...\n",
      "2005 opened and sliced successfully...\n",
      "Job complete!\n"
     ]
    }
   ],
   "source": [
    "test = file_creation.GenerateTrainData(\n",
    "                                main_path=file_creation.main_path_003,\n",
    "                                start_year=file_creation.start_year,\n",
    "                                end_year=file_creation.end_year,\n",
    "                                variable='VBOT',\n",
    "                                month=None,\n",
    "                                instant=False,\n",
    "                                height=None,\n",
    "                                pressure=False,\n",
    "                                ens_num='003')\n",
    "test.generate_files()"
   ]
  },
  {
   "cell_type": "code",
   "execution_count": 9,
   "metadata": {},
   "outputs": [
    {
     "name": "stdout",
     "output_type": "stream",
     "text": [
      "starting file generation...\n",
      "opening variable file...\n",
      "2000 opened and sliced successfully...\n",
      "2001 opened and sliced successfully...\n",
      "2002 opened and sliced successfully...\n",
      "2003 opened and sliced successfully...\n",
      "2004 opened and sliced successfully...\n",
      "2005 opened and sliced successfully...\n",
      "Job complete!\n"
     ]
    }
   ],
   "source": [
    "test = file_creation.GenerateTrainData(\n",
    "                                main_path=file_creation.main_path_003,\n",
    "                                start_year=file_creation.start_year,\n",
    "                                end_year=file_creation.end_year,\n",
    "                                variable='VBOT',\n",
    "                                month=None,\n",
    "                                instant=True,\n",
    "                                height=None,\n",
    "                                pressure=False,\n",
    "                                ens_num='003')\n",
    "test.generate_files()"
   ]
  },
  {
   "cell_type": "code",
   "execution_count": null,
   "metadata": {},
   "outputs": [],
   "source": []
  },
  {
   "cell_type": "code",
   "execution_count": null,
   "metadata": {},
   "outputs": [],
   "source": []
  },
  {
   "cell_type": "code",
   "execution_count": null,
   "metadata": {},
   "outputs": [],
   "source": []
  },
  {
   "cell_type": "code",
   "execution_count": null,
   "metadata": {},
   "outputs": [],
   "source": []
  },
  {
   "cell_type": "code",
   "execution_count": null,
   "metadata": {},
   "outputs": [],
   "source": []
  },
  {
   "cell_type": "code",
   "execution_count": null,
   "metadata": {},
   "outputs": [],
   "source": []
  },
  {
   "cell_type": "code",
   "execution_count": null,
   "metadata": {},
   "outputs": [],
   "source": []
  },
  {
   "cell_type": "code",
   "execution_count": 5,
   "metadata": {},
   "outputs": [
    {
     "name": "stdout",
     "output_type": "stream",
     "text": [
      "starting mask file generation...\n",
      "Job complete!\n"
     ]
    }
   ],
   "source": [
    "test = file_creation.GenerateTrainData(file_creation.main_path, \n",
    "                                        file_creation.start_year,\n",
    "                                        file_creation.end_year,\n",
    "                                        month=4, variable='Q', height=4)\n",
    "test.generate_masks()"
   ]
  },
  {
   "cell_type": "code",
   "execution_count": 6,
   "metadata": {},
   "outputs": [
    {
     "name": "stdout",
     "output_type": "stream",
     "text": [
      "starting mask file generation...\n",
      "Job complete!\n"
     ]
    }
   ],
   "source": [
    "test = file_creation.GenerateTrainData(file_creation.main_path, \n",
    "                                        file_creation.start_year,\n",
    "                                        file_creation.end_year,\n",
    "                                        month=5, variable='Q', height=4)\n",
    "test.generate_masks()"
   ]
  },
  {
   "cell_type": "code",
   "execution_count": 7,
   "metadata": {},
   "outputs": [
    {
     "name": "stdout",
     "output_type": "stream",
     "text": [
      "starting mask file generation...\n",
      "Job complete!\n"
     ]
    }
   ],
   "source": [
    "test = file_creation.GenerateTrainData(file_creation.main_path, \n",
    "                                        file_creation.start_year,\n",
    "                                        file_creation.end_year,\n",
    "                                        month=6, variable='Q', height=4)\n",
    "test.generate_masks()"
   ]
  },
  {
   "cell_type": "code",
   "execution_count": 3,
   "metadata": {},
   "outputs": [
    {
     "name": "stdout",
     "output_type": "stream",
     "text": [
      "starting mask file generation...\n",
      "Job complete!\n"
     ]
    }
   ],
   "source": [
    "test = file_creation.GenerateTrainData(file_creation.main_path, \n",
    "                                        file_creation.start_year,\n",
    "                                        file_creation.end_year,\n",
    "                                        month=7, variable='Q', height=4)\n",
    "test.generate_masks()"
   ]
  },
  {
   "cell_type": "code",
   "execution_count": 4,
   "metadata": {},
   "outputs": [
    {
     "name": "stdout",
     "output_type": "stream",
     "text": [
      "starting file generation...\n",
      "opening variable file...\n",
      "1991 opened and sliced successfully...\n",
      "1992 opened and sliced successfully...\n",
      "1993 opened and sliced successfully...\n",
      "1994 opened and sliced successfully...\n",
      "1995 opened and sliced successfully...\n",
      "1996 opened and sliced successfully...\n",
      "1997 opened and sliced successfully...\n",
      "1998 opened and sliced successfully...\n",
      "1999 opened and sliced successfully...\n",
      "2000 opened and sliced successfully...\n",
      "2001 opened and sliced successfully...\n",
      "2002 opened and sliced successfully...\n",
      "2003 opened and sliced successfully...\n",
      "2004 opened and sliced successfully...\n",
      "2005 opened and sliced successfully...\n",
      "Job complete!\n"
     ]
    }
   ],
   "source": [
    "test = file_creation.GenerateTrainData(file_creation.main_path, \n",
    "                                        file_creation.start_year,\n",
    "                                        file_creation.end_year,\n",
    "                                        month=4, variable='Q', height=4)\n",
    "test.generate_files()"
   ]
  },
  {
   "cell_type": "code",
   "execution_count": 5,
   "metadata": {},
   "outputs": [
    {
     "name": "stdout",
     "output_type": "stream",
     "text": [
      "starting file generation...\n",
      "opening variable file...\n",
      "1991 opened and sliced successfully...\n",
      "1992 opened and sliced successfully...\n",
      "1993 opened and sliced successfully...\n",
      "1994 opened and sliced successfully...\n",
      "1995 opened and sliced successfully...\n",
      "1996 opened and sliced successfully...\n",
      "1997 opened and sliced successfully...\n",
      "1998 opened and sliced successfully...\n",
      "1999 opened and sliced successfully...\n",
      "2000 opened and sliced successfully...\n",
      "2001 opened and sliced successfully...\n",
      "2002 opened and sliced successfully...\n",
      "2003 opened and sliced successfully...\n",
      "2004 opened and sliced successfully...\n",
      "2005 opened and sliced successfully...\n",
      "Job complete!\n"
     ]
    }
   ],
   "source": [
    "test = file_creation.GenerateTrainData(file_creation.main_path, \n",
    "                                        file_creation.start_year,\n",
    "                                        file_creation.end_year,\n",
    "                                        month=5, variable='Q', height=4)\n",
    "test.generate_files()"
   ]
  },
  {
   "cell_type": "code",
   "execution_count": 6,
   "metadata": {},
   "outputs": [
    {
     "name": "stdout",
     "output_type": "stream",
     "text": [
      "starting file generation...\n",
      "opening variable file...\n",
      "1991 opened and sliced successfully...\n",
      "1992 opened and sliced successfully...\n",
      "1993 opened and sliced successfully...\n",
      "1994 opened and sliced successfully...\n",
      "1995 opened and sliced successfully...\n",
      "1996 opened and sliced successfully...\n",
      "1997 opened and sliced successfully...\n",
      "1998 opened and sliced successfully...\n",
      "1999 opened and sliced successfully...\n",
      "2000 opened and sliced successfully...\n",
      "2001 opened and sliced successfully...\n",
      "2002 opened and sliced successfully...\n",
      "2003 opened and sliced successfully...\n",
      "2004 opened and sliced successfully...\n",
      "2005 opened and sliced successfully...\n",
      "Job complete!\n"
     ]
    }
   ],
   "source": [
    "test = file_creation.GenerateTrainData(file_creation.main_path, \n",
    "                                        file_creation.start_year,\n",
    "                                        file_creation.end_year,\n",
    "                                        month=6, variable='Q', height=4)\n",
    "test.generate_files()"
   ]
  },
  {
   "cell_type": "code",
   "execution_count": null,
   "metadata": {},
   "outputs": [
    {
     "name": "stdout",
     "output_type": "stream",
     "text": [
      "starting file generation...\n",
      "opening variable file...\n",
      "1991 opened and sliced successfully...\n",
      "1992 opened and sliced successfully...\n",
      "1993 opened and sliced successfully...\n",
      "1994 opened and sliced successfully...\n",
      "1995 opened and sliced successfully...\n",
      "1996 opened and sliced successfully...\n",
      "1997 opened and sliced successfully...\n",
      "1998 opened and sliced successfully...\n",
      "1999 opened and sliced successfully...\n",
      "2000 opened and sliced successfully...\n",
      "2001 opened and sliced successfully...\n",
      "2002 opened and sliced successfully...\n",
      "2003 opened and sliced successfully...\n",
      "2004 opened and sliced successfully...\n",
      "2005 opened and sliced successfully...\n"
     ]
    }
   ],
   "source": [
    "test = file_creation.GenerateTrainData(file_creation.main_path, \n",
    "                                        file_creation.start_year,\n",
    "                                        file_creation.end_year,\n",
    "                                        month=7, variable='Q', height=4)\n",
    "test.generate_files()"
   ]
  },
  {
   "cell_type": "code",
   "execution_count": null,
   "metadata": {},
   "outputs": [],
   "source": []
  }
 ],
 "metadata": {
  "kernelspec": {
   "display_name": "Python [conda env:miniconda3-python-tutorial]",
   "language": "python",
   "name": "conda-env-miniconda3-python-tutorial-python3_myenv"
  },
  "language_info": {
   "codemirror_mode": {
    "name": "ipython",
    "version": 3
   },
   "file_extension": ".py",
   "mimetype": "text/x-python",
   "name": "python",
   "nbconvert_exporter": "python",
   "pygments_lexer": "ipython3",
   "version": "3.7.3"
  }
 },
 "nbformat": 4,
 "nbformat_minor": 4
}
